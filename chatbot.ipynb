{
 "cells": [
  {
   "cell_type": "code",
   "execution_count": 2,
   "metadata": {},
   "outputs": [
    {
     "data": {
      "text/html": [
       "<div>\n",
       "<style scoped>\n",
       "    .dataframe tbody tr th:only-of-type {\n",
       "        vertical-align: middle;\n",
       "    }\n",
       "\n",
       "    .dataframe tbody tr th {\n",
       "        vertical-align: top;\n",
       "    }\n",
       "\n",
       "    .dataframe thead th {\n",
       "        text-align: right;\n",
       "    }\n",
       "</style>\n",
       "<table border=\"1\" class=\"dataframe\">\n",
       "  <thead>\n",
       "    <tr style=\"text-align: right;\">\n",
       "      <th></th>\n",
       "      <th>id</th>\n",
       "      <th>sentence</th>\n",
       "      <th>sentence_fenci</th>\n",
       "      <th>sentence_train</th>\n",
       "      <th>label</th>\n",
       "    </tr>\n",
       "  </thead>\n",
       "  <tbody>\n",
       "    <tr>\n",
       "      <th>0</th>\n",
       "      <td>1</td>\n",
       "      <td>帮我查一下明天去上海的票</td>\n",
       "      <td>帮 我 查 一下 明天 去 上海 的 票</td>\n",
       "      <td>帮 我 查 一下 DATE 去 CITY 的 票</td>\n",
       "      <td>0</td>\n",
       "    </tr>\n",
       "    <tr>\n",
       "      <th>1</th>\n",
       "      <td>2</td>\n",
       "      <td>今天晚上深圳到上海，尽量订晚上TIME左右的吧</td>\n",
       "      <td>今天 晚上 深圳 到 上海 ， 尽量 订 晚上 TIME 左右 的 吧</td>\n",
       "      <td>DATE TIME CITY 到 CITY ， 尽量 订 TIME TIME 左右 的 吧</td>\n",
       "      <td>1</td>\n",
       "    </tr>\n",
       "    <tr>\n",
       "      <th>2</th>\n",
       "      <td>3</td>\n",
       "      <td>我不需要了</td>\n",
       "      <td>我 不 需要 了</td>\n",
       "      <td>我 不 需要 了</td>\n",
       "      <td>2</td>\n",
       "    </tr>\n",
       "    <tr>\n",
       "      <th>3</th>\n",
       "      <td>4</td>\n",
       "      <td>我不需要订票</td>\n",
       "      <td>我 不 需要 订 票</td>\n",
       "      <td>我 不 需要 订 票</td>\n",
       "      <td>2</td>\n",
       "    </tr>\n",
       "    <tr>\n",
       "      <th>4</th>\n",
       "      <td>5</td>\n",
       "      <td>不需要订票</td>\n",
       "      <td>不 需要 订 票</td>\n",
       "      <td>不 需要 订 票</td>\n",
       "      <td>2</td>\n",
       "    </tr>\n",
       "  </tbody>\n",
       "</table>\n",
       "</div>"
      ],
      "text/plain": [
       "   id                 sentence                       sentence_fenci  \\\n",
       "0   1             帮我查一下明天去上海的票                 帮 我 查 一下 明天 去 上海 的 票   \n",
       "1   2  今天晚上深圳到上海，尽量订晚上TIME左右的吧  今天 晚上 深圳 到 上海 ， 尽量 订 晚上 TIME 左右 的 吧   \n",
       "2   3                    我不需要了                             我 不 需要 了   \n",
       "3   4                   我不需要订票                           我 不 需要 订 票   \n",
       "4   5                    不需要订票                             不 需要 订 票   \n",
       "\n",
       "                                  sentence_train  label  \n",
       "0                       帮 我 查 一下 DATE 去 CITY 的 票      0  \n",
       "1  DATE TIME CITY 到 CITY ， 尽量 订 TIME TIME 左右 的 吧      1  \n",
       "2                                       我 不 需要 了      2  \n",
       "3                                     我 不 需要 订 票      2  \n",
       "4                                       不 需要 订 票      2  "
      ]
     },
     "execution_count": 2,
     "metadata": {},
     "output_type": "execute_result"
    }
   ],
   "source": [
    "import pandas as pd \n",
    "\n",
    "d_train = pd.read_excel('./data/data_train.xlsx')\n",
    "d_train.head()"
   ]
  },
  {
   "cell_type": "code",
   "execution_count": 3,
   "metadata": {},
   "outputs": [
    {
     "data": {
      "text/plain": [
       "pandas.core.frame.DataFrame"
      ]
     },
     "execution_count": 3,
     "metadata": {},
     "output_type": "execute_result"
    }
   ],
   "source": [
    "type(d_train)"
   ]
  },
  {
   "cell_type": "code",
   "execution_count": 18,
   "metadata": {},
   "outputs": [],
   "source": [
    "import fool\n",
    "import re\n",
    "\n",
    "def fun_clean(sentence):\n",
    "    \n",
    "    words, ners = fool.analysis(sentence)\n",
    "    ners[0].sort(key=lambda x: len(x[-1]), reverse=True)\n",
    "    ners = ners[0]\n",
    "    \n",
    "    if ners:\n",
    "        for ner in ners:\n",
    "            sentence = sentence.replace(ner[-1], ' ' + ner[2] + ' ')\n",
    "    \n",
    "    words_lst = fool.cut(sentence)[0]\n",
    "    output_str = ' '.join(words_lst)\n",
    "    output_str = re.sub(r'\\s+', ' ', output_str)\n",
    "    \n",
    "    return output_str.strip()"
   ]
  },
  {
   "cell_type": "code",
   "execution_count": 19,
   "metadata": {},
   "outputs": [
    {
     "data": {
      "text/plain": [
       "'帮 我 查 一下 time 去 location 的 票'"
      ]
     },
     "execution_count": 19,
     "metadata": {},
     "output_type": "execute_result"
    }
   ],
   "source": [
    "fun_clean('帮我查一下明天去上海的票')"
   ]
  },
  {
   "cell_type": "code",
   "execution_count": 29,
   "metadata": {},
   "outputs": [
    {
     "data": {
      "text/plain": [
       "pandas.core.series.Series"
      ]
     },
     "execution_count": 29,
     "metadata": {},
     "output_type": "execute_result"
    }
   ],
   "source": [
    "d_demo = d_train.head()\n",
    "type(d_demo.sentence.apply(fun_clean))"
   ]
  },
  {
   "cell_type": "code",
   "execution_count": 31,
   "metadata": {},
   "outputs": [
    {
     "name": "stderr",
     "output_type": "stream",
     "text": [
      "/home/six/anaconda3/lib/python3.7/site-packages/ipykernel_launcher.py:1: SettingWithCopyWarning: \n",
      "A value is trying to be set on a copy of a slice from a DataFrame.\n",
      "Try using .loc[row_indexer,col_indexer] = value instead\n",
      "\n",
      "See the caveats in the documentation: http://pandas.pydata.org/pandas-docs/stable/indexing.html#indexing-view-versus-copy\n",
      "  \"\"\"Entry point for launching an IPython kernel.\n"
     ]
    }
   ],
   "source": [
    "d_demo['new'] = d_demo.sentence.apply(fun_clean)"
   ]
  },
  {
   "cell_type": "code",
   "execution_count": 33,
   "metadata": {
    "scrolled": true
   },
   "outputs": [],
   "source": [
    "d_demo.insert(2, 'new2', d_demo.sentence.apply(fun_clean))"
   ]
  },
  {
   "cell_type": "code",
   "execution_count": 34,
   "metadata": {},
   "outputs": [
    {
     "data": {
      "text/html": [
       "<div>\n",
       "<style scoped>\n",
       "    .dataframe tbody tr th:only-of-type {\n",
       "        vertical-align: middle;\n",
       "    }\n",
       "\n",
       "    .dataframe tbody tr th {\n",
       "        vertical-align: top;\n",
       "    }\n",
       "\n",
       "    .dataframe thead th {\n",
       "        text-align: right;\n",
       "    }\n",
       "</style>\n",
       "<table border=\"1\" class=\"dataframe\">\n",
       "  <thead>\n",
       "    <tr style=\"text-align: right;\">\n",
       "      <th></th>\n",
       "      <th>id</th>\n",
       "      <th>sentence</th>\n",
       "      <th>new2</th>\n",
       "      <th>sentence_fenci</th>\n",
       "      <th>sentence_train</th>\n",
       "      <th>label</th>\n",
       "      <th>new</th>\n",
       "    </tr>\n",
       "  </thead>\n",
       "  <tbody>\n",
       "    <tr>\n",
       "      <th>0</th>\n",
       "      <td>1</td>\n",
       "      <td>帮我查一下明天去上海的票</td>\n",
       "      <td>帮 我 查 一下 time 去 location 的 票</td>\n",
       "      <td>帮 我 查 一下 明天 去 上海 的 票</td>\n",
       "      <td>帮 我 查 一下 DATE 去 CITY 的 票</td>\n",
       "      <td>0</td>\n",
       "      <td>帮 我 查 一下 time 去 location 的 票</td>\n",
       "    </tr>\n",
       "    <tr>\n",
       "      <th>1</th>\n",
       "      <td>2</td>\n",
       "      <td>今天晚上深圳到上海，尽量订晚上TIME左右的吧</td>\n",
       "      <td>time location 到 location ， 尽量 订 time TIME 左右 的 吧</td>\n",
       "      <td>今天 晚上 深圳 到 上海 ， 尽量 订 晚上 TIME 左右 的 吧</td>\n",
       "      <td>DATE TIME CITY 到 CITY ， 尽量 订 TIME TIME 左右 的 吧</td>\n",
       "      <td>1</td>\n",
       "      <td>time location 到 location ， 尽量 订 time TIME 左右 的 吧</td>\n",
       "    </tr>\n",
       "    <tr>\n",
       "      <th>2</th>\n",
       "      <td>3</td>\n",
       "      <td>我不需要了</td>\n",
       "      <td>我 不 需要 了</td>\n",
       "      <td>我 不 需要 了</td>\n",
       "      <td>我 不 需要 了</td>\n",
       "      <td>2</td>\n",
       "      <td>我 不 需要 了</td>\n",
       "    </tr>\n",
       "    <tr>\n",
       "      <th>3</th>\n",
       "      <td>4</td>\n",
       "      <td>我不需要订票</td>\n",
       "      <td>我 不 需要 订 票</td>\n",
       "      <td>我 不 需要 订 票</td>\n",
       "      <td>我 不 需要 订 票</td>\n",
       "      <td>2</td>\n",
       "      <td>我 不 需要 订 票</td>\n",
       "    </tr>\n",
       "    <tr>\n",
       "      <th>4</th>\n",
       "      <td>5</td>\n",
       "      <td>不需要订票</td>\n",
       "      <td>不 需要 订 票</td>\n",
       "      <td>不 需要 订 票</td>\n",
       "      <td>不 需要 订 票</td>\n",
       "      <td>2</td>\n",
       "      <td>不 需要 订 票</td>\n",
       "    </tr>\n",
       "  </tbody>\n",
       "</table>\n",
       "</div>"
      ],
      "text/plain": [
       "   id                 sentence  \\\n",
       "0   1             帮我查一下明天去上海的票   \n",
       "1   2  今天晚上深圳到上海，尽量订晚上TIME左右的吧   \n",
       "2   3                    我不需要了   \n",
       "3   4                   我不需要订票   \n",
       "4   5                    不需要订票   \n",
       "\n",
       "                                               new2  \\\n",
       "0                      帮 我 查 一下 time 去 location 的 票   \n",
       "1  time location 到 location ， 尽量 订 time TIME 左右 的 吧   \n",
       "2                                          我 不 需要 了   \n",
       "3                                        我 不 需要 订 票   \n",
       "4                                          不 需要 订 票   \n",
       "\n",
       "                        sentence_fenci  \\\n",
       "0                 帮 我 查 一下 明天 去 上海 的 票   \n",
       "1  今天 晚上 深圳 到 上海 ， 尽量 订 晚上 TIME 左右 的 吧   \n",
       "2                             我 不 需要 了   \n",
       "3                           我 不 需要 订 票   \n",
       "4                             不 需要 订 票   \n",
       "\n",
       "                                  sentence_train  label  \\\n",
       "0                       帮 我 查 一下 DATE 去 CITY 的 票      0   \n",
       "1  DATE TIME CITY 到 CITY ， 尽量 订 TIME TIME 左右 的 吧      1   \n",
       "2                                       我 不 需要 了      2   \n",
       "3                                     我 不 需要 订 票      2   \n",
       "4                                       不 需要 订 票      2   \n",
       "\n",
       "                                                new  \n",
       "0                      帮 我 查 一下 time 去 location 的 票  \n",
       "1  time location 到 location ， 尽量 订 time TIME 左右 的 吧  \n",
       "2                                          我 不 需要 了  \n",
       "3                                        我 不 需要 订 票  \n",
       "4                                          不 需要 订 票  "
      ]
     },
     "execution_count": 34,
     "metadata": {},
     "output_type": "execute_result"
    }
   ],
   "source": [
    "d_demo"
   ]
  },
  {
   "cell_type": "code",
   "execution_count": 35,
   "metadata": {},
   "outputs": [
    {
     "name": "stderr",
     "output_type": "stream",
     "text": [
      "/home/six/anaconda3/lib/python3.7/site-packages/pandas/core/generic.py:4405: SettingWithCopyWarning: \n",
      "A value is trying to be set on a copy of a slice from a DataFrame.\n",
      "Try using .loc[row_indexer,col_indexer] = value instead\n",
      "\n",
      "See the caveats in the documentation: http://pandas.pydata.org/pandas-docs/stable/indexing.html#indexing-view-versus-copy\n",
      "  self[name] = value\n"
     ]
    }
   ],
   "source": [
    "d_demo.sentence = d_demo.sentence.apply(fun_clean)"
   ]
  },
  {
   "cell_type": "code",
   "execution_count": 36,
   "metadata": {},
   "outputs": [
    {
     "data": {
      "text/html": [
       "<div>\n",
       "<style scoped>\n",
       "    .dataframe tbody tr th:only-of-type {\n",
       "        vertical-align: middle;\n",
       "    }\n",
       "\n",
       "    .dataframe tbody tr th {\n",
       "        vertical-align: top;\n",
       "    }\n",
       "\n",
       "    .dataframe thead th {\n",
       "        text-align: right;\n",
       "    }\n",
       "</style>\n",
       "<table border=\"1\" class=\"dataframe\">\n",
       "  <thead>\n",
       "    <tr style=\"text-align: right;\">\n",
       "      <th></th>\n",
       "      <th>id</th>\n",
       "      <th>sentence</th>\n",
       "      <th>new2</th>\n",
       "      <th>sentence_fenci</th>\n",
       "      <th>sentence_train</th>\n",
       "      <th>label</th>\n",
       "      <th>new</th>\n",
       "    </tr>\n",
       "  </thead>\n",
       "  <tbody>\n",
       "    <tr>\n",
       "      <th>0</th>\n",
       "      <td>1</td>\n",
       "      <td>帮 我 查 一下 time 去 location 的 票</td>\n",
       "      <td>帮 我 查 一下 time 去 location 的 票</td>\n",
       "      <td>帮 我 查 一下 明天 去 上海 的 票</td>\n",
       "      <td>帮 我 查 一下 DATE 去 CITY 的 票</td>\n",
       "      <td>0</td>\n",
       "      <td>帮 我 查 一下 time 去 location 的 票</td>\n",
       "    </tr>\n",
       "    <tr>\n",
       "      <th>1</th>\n",
       "      <td>2</td>\n",
       "      <td>time location 到 location ， 尽量 订 time TIME 左右 的 吧</td>\n",
       "      <td>time location 到 location ， 尽量 订 time TIME 左右 的 吧</td>\n",
       "      <td>今天 晚上 深圳 到 上海 ， 尽量 订 晚上 TIME 左右 的 吧</td>\n",
       "      <td>DATE TIME CITY 到 CITY ， 尽量 订 TIME TIME 左右 的 吧</td>\n",
       "      <td>1</td>\n",
       "      <td>time location 到 location ， 尽量 订 time TIME 左右 的 吧</td>\n",
       "    </tr>\n",
       "    <tr>\n",
       "      <th>2</th>\n",
       "      <td>3</td>\n",
       "      <td>我 不 需要 了</td>\n",
       "      <td>我 不 需要 了</td>\n",
       "      <td>我 不 需要 了</td>\n",
       "      <td>我 不 需要 了</td>\n",
       "      <td>2</td>\n",
       "      <td>我 不 需要 了</td>\n",
       "    </tr>\n",
       "    <tr>\n",
       "      <th>3</th>\n",
       "      <td>4</td>\n",
       "      <td>我 不 需要 订 票</td>\n",
       "      <td>我 不 需要 订 票</td>\n",
       "      <td>我 不 需要 订 票</td>\n",
       "      <td>我 不 需要 订 票</td>\n",
       "      <td>2</td>\n",
       "      <td>我 不 需要 订 票</td>\n",
       "    </tr>\n",
       "    <tr>\n",
       "      <th>4</th>\n",
       "      <td>5</td>\n",
       "      <td>不 需要 订 票</td>\n",
       "      <td>不 需要 订 票</td>\n",
       "      <td>不 需要 订 票</td>\n",
       "      <td>不 需要 订 票</td>\n",
       "      <td>2</td>\n",
       "      <td>不 需要 订 票</td>\n",
       "    </tr>\n",
       "  </tbody>\n",
       "</table>\n",
       "</div>"
      ],
      "text/plain": [
       "   id                                          sentence  \\\n",
       "0   1                      帮 我 查 一下 time 去 location 的 票   \n",
       "1   2  time location 到 location ， 尽量 订 time TIME 左右 的 吧   \n",
       "2   3                                          我 不 需要 了   \n",
       "3   4                                        我 不 需要 订 票   \n",
       "4   5                                          不 需要 订 票   \n",
       "\n",
       "                                               new2  \\\n",
       "0                      帮 我 查 一下 time 去 location 的 票   \n",
       "1  time location 到 location ， 尽量 订 time TIME 左右 的 吧   \n",
       "2                                          我 不 需要 了   \n",
       "3                                        我 不 需要 订 票   \n",
       "4                                          不 需要 订 票   \n",
       "\n",
       "                        sentence_fenci  \\\n",
       "0                 帮 我 查 一下 明天 去 上海 的 票   \n",
       "1  今天 晚上 深圳 到 上海 ， 尽量 订 晚上 TIME 左右 的 吧   \n",
       "2                             我 不 需要 了   \n",
       "3                           我 不 需要 订 票   \n",
       "4                             不 需要 订 票   \n",
       "\n",
       "                                  sentence_train  label  \\\n",
       "0                       帮 我 查 一下 DATE 去 CITY 的 票      0   \n",
       "1  DATE TIME CITY 到 CITY ， 尽量 订 TIME TIME 左右 的 吧      1   \n",
       "2                                       我 不 需要 了      2   \n",
       "3                                     我 不 需要 订 票      2   \n",
       "4                                       不 需要 订 票      2   \n",
       "\n",
       "                                                new  \n",
       "0                      帮 我 查 一下 time 去 location 的 票  \n",
       "1  time location 到 location ， 尽量 订 time TIME 左右 的 吧  \n",
       "2                                          我 不 需要 了  \n",
       "3                                        我 不 需要 订 票  \n",
       "4                                          不 需要 订 票  "
      ]
     },
     "execution_count": 36,
     "metadata": {},
     "output_type": "execute_result"
    }
   ],
   "source": [
    "d_demo"
   ]
  },
  {
   "cell_type": "code",
   "execution_count": 69,
   "metadata": {},
   "outputs": [
    {
     "data": {
      "text/plain": [
       "<re.Match object; span=(0, 5), match='print'>"
      ]
     },
     "execution_count": 69,
     "metadata": {},
     "output_type": "execute_result"
    }
   ],
   "source": [
    "import re\n",
    "\n",
    "# (?u): Unicode匹配\n",
    "re.match(r'\\bprint\\b', 'print ')"
   ]
  },
  {
   "cell_type": "code",
   "execution_count": 64,
   "metadata": {},
   "outputs": [
    {
     "name": "stdout",
     "output_type": "stream",
     "text": [
      "print\n"
     ]
    }
   ],
   "source": [
    "import re\n",
    "\n",
    "def t1():\n",
    "    pattern = re.compile(r\"\\bprint\\b\")\n",
    "    search = pattern.search('print 123 hello')\n",
    "    if search:\n",
    "        print(search.group(0))\n",
    "    else:\n",
    "        print(\"NO\")\n",
    "\n",
    "t1()"
   ]
  },
  {
   "cell_type": "code",
   "execution_count": 78,
   "metadata": {},
   "outputs": [
    {
     "name": "stdout",
     "output_type": "stream",
     "text": [
      "['location', 'time', '一下', '不', '了', '到', '去', '吧', '尽量', '左右', '帮', '我', '查', '的', '票', '订', '需要']\n",
      "  (0, 14)\t0.23394026907653165\n",
      "  (0, 13)\t0.28182507322400285\n",
      "  (0, 12)\t0.34931491409216125\n",
      "  (0, 11)\t0.4678805381530633\n",
      "  (0, 10)\t0.34931491409216125\n",
      "  (0, 6)\t0.34931491409216125\n",
      "  (0, 2)\t0.34931491409216125\n",
      "  (0, 1)\t0.28182507322400285\n",
      "  (0, 0)\t0.28182507322400285\n"
     ]
    }
   ],
   "source": [
    "from sklearn.feature_extraction.text import TfidfVectorizer\n",
    "\n",
    "vectorizer = TfidfVectorizer(token_pattern=r'(?u)\\b\\w+\\b')\n",
    "features = vectorizer.fit_transform(d_demo.sentence)\n",
    "feature_names = vectorizer.get_feature_names()\n",
    "\n",
    "sentence = '帮 我 我 查 一下 time 去 location 的 票'\n",
    "sent_features = vectorizer.transform([sentence])\n",
    "print(feature_names)\n",
    "print(sent_features)"
   ]
  },
  {
   "cell_type": "code",
   "execution_count": 80,
   "metadata": {},
   "outputs": [
    {
     "name": "stderr",
     "output_type": "stream",
     "text": [
      "/home/six/anaconda3/lib/python3.7/site-packages/sklearn/linear_model/logistic.py:433: FutureWarning: Default solver will be changed to 'lbfgs' in 0.22. Specify a solver to silence this warning.\n",
      "  FutureWarning)\n",
      "/home/six/anaconda3/lib/python3.7/site-packages/sklearn/linear_model/logistic.py:460: FutureWarning: Default multi_class will be changed to 'auto' in 0.22. Specify the multi_class option to silence this warning.\n",
      "  \"this warning.\", FutureWarning)\n"
     ]
    },
    {
     "data": {
      "text/plain": [
       "LogisticRegression(C=10, class_weight=None, dual=False, fit_intercept=True,\n",
       "          intercept_scaling=1, max_iter=100, multi_class='warn',\n",
       "          n_jobs=None, penalty='l2', random_state=None, solver='warn',\n",
       "          tol=0.0001, verbose=0, warm_start=False)"
      ]
     },
     "execution_count": 80,
     "metadata": {},
     "output_type": "execute_result"
    }
   ],
   "source": [
    "from sklearn.linear_model import LogisticRegression\n",
    "\n",
    "model = LogisticRegression(C=10)\n",
    "model.fit(features, d_demo.label)"
   ]
  },
  {
   "cell_type": "code",
   "execution_count": 82,
   "metadata": {},
   "outputs": [
    {
     "data": {
      "text/plain": [
       "[[0.6646227326474614, 0.13259985439166178, 0.2027774129608769]]"
      ]
     },
     "execution_count": 82,
     "metadata": {},
     "output_type": "execute_result"
    }
   ],
   "source": [
    "model.predict_proba(sent_features).tolist()"
   ]
  },
  {
   "cell_type": "code",
   "execution_count": null,
   "metadata": {},
   "outputs": [],
   "source": []
  }
 ],
 "metadata": {
  "kernelspec": {
   "display_name": "Python 3",
   "language": "python",
   "name": "python3"
  },
  "language_info": {
   "codemirror_mode": {
    "name": "ipython",
    "version": 3
   },
   "file_extension": ".py",
   "mimetype": "text/x-python",
   "name": "python",
   "nbconvert_exporter": "python",
   "pygments_lexer": "ipython3",
   "version": "3.7.1"
  },
  "toc": {
   "base_numbering": 1,
   "nav_menu": {},
   "number_sections": true,
   "sideBar": true,
   "skip_h1_title": false,
   "title_cell": "Table of Contents",
   "title_sidebar": "Contents",
   "toc_cell": false,
   "toc_position": {},
   "toc_section_display": true,
   "toc_window_display": false
  }
 },
 "nbformat": 4,
 "nbformat_minor": 2
}
